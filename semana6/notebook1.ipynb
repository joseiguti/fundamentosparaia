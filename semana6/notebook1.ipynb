{
 "cells": [
  {
   "cell_type": "code",
   "execution_count": null,
   "metadata": {
    "collapsed": true,
    "is_executing": true
   },
   "outputs": [],
   "source": [
    "# Imports the pandas library, which provides data structures and functions for efficient data manipulation and analysis.\n",
    "import pandas as pd\n",
    "# Imports the stats module from the scipy library, which contains various statistical functions and distributions.\n",
    "import scipy.stats as stats\n",
    "# Imports the numpy library, which provides support for large, multi-dimensional arrays and mathematical operations.\n",
    "import numpy as np\n",
    "# Imports the pyplot module from the matplotlib library, which provides functions for creating various types of plots and visualizations.\n",
    "import matplotlib.pyplot as plt\n",
    "# Imports the seaborn library, which is a high-level interface for creating informative and attractive statistical graphics.\n",
    "import seaborn as sns"
   ]
  },
  {
   "cell_type": "code",
   "execution_count": 122,
   "metadata": {
    "ExecuteTime": {
     "end_time": "2023-06-20T04:49:54.276321Z",
     "start_time": "2023-06-20T04:49:54.273327Z"
    }
   },
   "outputs": [],
   "source": [
    "# Load the Iris dataset\n",
    "# https://www.kaggle.com/datasets/uciml/iris\n",
    "\n",
    "# The Iris dataset was used in R.A. Fisher's classic 1936 paper, The Use of Multiple Measurements in Taxonomic Problems, and can also be found on the UCI Machine Learning Repository.\n",
    "\n",
    "#It includes three iris species with 50 samples each as well as some properties about each flower. One flower species is linearly separable from the other two, but the other two are not linearly separable from each other.\n",
    "\n",
    "#The columns in this dataset are:\n",
    "\n",
    "#Id\n",
    "#SepalLengthCm\n",
    "#SepalWidthCm\n",
    "#PetalLengthCm\n",
    "#PetalWidthCm\n",
    "#Species\n",
    "\n",
    "df = pd.read_csv('Iris.csv')"
   ]
  },
  {
   "cell_type": "code",
   "execution_count": 123,
   "metadata": {
    "ExecuteTime": {
     "end_time": "2023-06-20T04:49:54.288581Z",
     "start_time": "2023-06-20T04:49:54.277941Z"
    }
   },
   "outputs": [],
   "source": [
    "# Measures of central tendency\n",
    "mean_sepal_length = df['SepalLengthCm'].mean()\n",
    "median_petal_width = df['PetalWidthCm'].median()"
   ]
  },
  {
   "cell_type": "code",
   "execution_count": 124,
   "metadata": {
    "ExecuteTime": {
     "end_time": "2023-06-20T04:49:54.288880Z",
     "start_time": "2023-06-20T04:49:54.281903Z"
    }
   },
   "outputs": [],
   "source": [
    "# Relationship between means\n",
    "setosa_group = df[df['Species'] == 'Iris-setosa']\n",
    "versicolor_group = df[df['Species'] == 'Iris-versicolor']\n",
    "mean_setosa_sepal_width = setosa_group['SepalWidthCm'].mean()\n",
    "mean_versicolor_sepal_width = versicolor_group['SepalWidthCm'].mean()\n"
   ]
  },
  {
   "cell_type": "code",
   "execution_count": 125,
   "metadata": {
    "ExecuteTime": {
     "end_time": "2023-06-20T04:49:54.288970Z",
     "start_time": "2023-06-20T04:49:54.285616Z"
    }
   },
   "outputs": [],
   "source": [
    "# Measures of non-central position\n",
    "percentile_90_petal_length = np.percentile(df['PetalLengthCm'], 90)"
   ]
  },
  {
   "cell_type": "code",
   "execution_count": 126,
   "metadata": {
    "ExecuteTime": {
     "end_time": "2023-06-20T04:49:54.291086Z",
     "start_time": "2023-06-20T04:49:54.288799Z"
    }
   },
   "outputs": [],
   "source": [
    "# Measures of dispersion\n",
    "sepal_width_range = df['SepalWidthCm'].max() - df['SepalWidthCm'].min()\n",
    "petal_length_std = df['PetalLengthCm'].std()"
   ]
  },
  {
   "cell_type": "code",
   "execution_count": 127,
   "metadata": {
    "ExecuteTime": {
     "end_time": "2023-06-20T04:49:54.292961Z",
     "start_time": "2023-06-20T04:49:54.291727Z"
    }
   },
   "outputs": [],
   "source": [
    "# Skewness and kurtosis\n",
    "petal_width_skewness = df['PetalWidthCm'].skew()\n",
    "sepal_length_kurtosis = df['SepalLengthCm'].kurtosis()"
   ]
  },
  {
   "cell_type": "code",
   "execution_count": 128,
   "metadata": {
    "ExecuteTime": {
     "end_time": "2023-06-20T04:49:54.295732Z",
     "start_time": "2023-06-20T04:49:54.294592Z"
    }
   },
   "outputs": [],
   "source": [
    "# Frequencies\n",
    "species_frequencies = df['Species'].value_counts()"
   ]
  },
  {
   "cell_type": "code",
   "execution_count": 129,
   "metadata": {
    "ExecuteTime": {
     "end_time": "2023-06-20T04:49:54.357307Z",
     "start_time": "2023-06-20T04:49:54.297665Z"
    }
   },
   "outputs": [
    {
     "data": {
      "text/plain": "<Figure size 800x600 with 1 Axes>",
      "image/png": "[encoded data removed]"
     },
     "metadata": {},
     "output_type": "display_data"
    }
   ],
   "source": [
    "# Bar plot\n",
    "plt.figure(figsize=(8, 6))\n",
    "sns.countplot(data=df, x='Species')\n",
    "plt.title('Species Distribution')\n",
    "plt.xlabel('Species')\n",
    "plt.ylabel('Frequency')\n",
    "plt.show()"
   ]
  },
  {
   "cell_type": "code",
   "execution_count": 130,
   "metadata": {
    "ExecuteTime": {
     "end_time": "2023-06-20T04:49:54.360846Z",
     "start_time": "2023-06-20T04:49:54.359017Z"
    }
   },
   "outputs": [
    {
     "name": "stdout",
     "output_type": "stream",
     "text": [
      "ANOVA Statistic: 119.26450218450468\n",
      "P-value: 1.6696691907693826e-31\n"
     ]
    }
   ],
   "source": [
    "# Analysis of Variance (ANOVA)\n",
    "result_anova = stats.f_oneway(setosa_group['SepalLengthCm'],\n",
    "                              versicolor_group['SepalLengthCm'],\n",
    "                              df[df['Species'] == 'Iris-virginica']['SepalLengthCm'])\n",
    "anova_statistic = result_anova.statistic\n",
    "p_value = result_anova.pvalue\n",
    "\n",
    "print(\"ANOVA Statistic:\", anova_statistic)\n",
    "print(\"P-value:\", p_value)"
   ]
  },
  {
   "cell_type": "code",
   "execution_count": 131,
   "metadata": {
    "ExecuteTime": {
     "end_time": "2023-06-20T04:49:54.363590Z",
     "start_time": "2023-06-20T04:49:54.362137Z"
    }
   },
   "outputs": [],
   "source": [
    "# Conclusions\n",
    "\n",
    "# 1. The dataset used is the Iris flower dataset, which contains measurements of different Iris flower species.\n",
    "# 2. The dataset is divided into three different species: setosa, versicolor, and virginica.\n",
    "# 3. Various operations were performed on the dataset using pandas, such as loading the CSV file, displaying basic information about the dataset, and filtering the data based on # certain criteria.\n",
    "# 4. Summary statistical information was obtained about the characteristics of the flowers in the dataset, such as sepal length, sepal width, petal length, and petal width.\n",
    "# 5. Plots were created to visualize the distributions of the characteristics for the different Iris flower species.\n",
    "\n",
    "\n",
    "# Sources\n",
    "# UCI Machine Learning. (n.d.). Iris. Kaggle. Retrieved Month Day, Year, from https://www.kaggle.com/datasets/uciml/iris\n",
    "# OpenAI. (2021). GPT-3.5 Architecture. Retrieved Month Day, Year, from https://openai.com/research/gpt-3.5\n",
    "\n"
   ]
  }
 ],
 "metadata": {
  "kernelspec": {
   "display_name": "Python 3 (ipykernel)",
   "language": "python",
   "name": "python3"
  },
  "language_info": {
   "codemirror_mode": {
    "name": "ipython",
    "version": 3
   },
   "file_extension": ".py",
   "mimetype": "text/x-python",
   "name": "python",
   "nbconvert_exporter": "python",
   "pygments_lexer": "ipython3",
   "version": "3.10.9"
  }
 },
 "nbformat": 4,
 "nbformat_minor": 1
}
