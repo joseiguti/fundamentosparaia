{
 "cells": [
  {
   "cell_type": "markdown",
   "metadata": {},
   "source": [
    "### Importing required libraries\n",
    "\n",
    "##### The pandas library is used for data manipulation and analysis. It provides data structures like DataFrame and Series, which allow for easy handling and manipulation of structured data. pandas offers functions for data cleaning, transformation, filtering, and aggregation. It is widely used for data preprocessing and exploratory data analysis.\n",
    "\n",
    "##### The matplotlib.pyplot module is a sub-module of the Matplotlib library, which is a powerful plotting library in Python. The pyplot module provides a collection of functions that allow you to create a wide range of plots, including line plots, scatter plots, bar plots, histograms, and more. It provides full control over the appearance and customization of the plots.\n",
    "\n",
    "##### The numpy library is a fundamental package for scientific computing in Python. It provides support for large, multi-dimensional arrays and matrices, along with a collection of mathematical functions to operate on these arrays efficiently. numpy is widely used for numerical computations, data manipulation, and scientific computing tasks."
   ]
  },
  {
   "cell_type": "code",
   "execution_count": 310,
   "metadata": {
    "ExecuteTime": {
     "end_time": "2023-05-21T22:56:42.264111Z",
     "start_time": "2023-05-21T22:56:42.197984Z"
    }
   },
   "outputs": [],
   "source": [
    "import pandas as pd\n",
    "import matplotlib.pyplot as plt\n",
    "import numpy as np"
   ]
  },
  {
   "cell_type": "markdown",
   "source": [
    "### Load the dataset to working\n",
    "#### For the topic I have selected next source https://www.kaggle.com/datasets/joonasyoon/github-topics"
   ],
   "metadata": {
    "collapsed": false
   }
  },
  {
   "cell_type": "code",
   "execution_count": 311,
   "outputs": [
    {
     "name": "stdout",
     "output_type": "stream",
     "text": [
      "Rows: 64127\n",
      "Columns: 8\n"
     ]
    }
   ],
   "source": [
    "df = pd.read_csv(\"https://joseiguti.com/machinelearning/fifa_ranking-2022-12-22.csv\")\n",
    "print(\"Rows:\", df.shape[0])\n",
    "print(\"Columns:\", df.shape[1])"
   ],
   "metadata": {
    "collapsed": false,
    "ExecuteTime": {
     "end_time": "2023-05-21T22:56:43.616085Z",
     "start_time": "2023-05-21T22:56:42.202185Z"
    }
   }
  },
  {
   "cell_type": "code",
   "execution_count": 312,
   "outputs": [],
   "source": [
    "desired_columns = ['rank', 'country_full', 'total_points', 'previous_points', 'rank_change', 'confederation', 'rank_date']\n",
    "\n",
    "df = df.loc[:, desired_columns]"
   ],
   "metadata": {
    "collapsed": false,
    "ExecuteTime": {
     "end_time": "2023-05-21T22:56:43.620449Z",
     "start_time": "2023-05-21T22:56:43.618869Z"
    }
   }
  },
  {
   "cell_type": "markdown",
   "source": [
    "## Showing first 5 rows"
   ],
   "metadata": {
    "collapsed": false
   }
  },
  {
   "cell_type": "code",
   "execution_count": 313,
   "outputs": [
    {
     "name": "stdout",
     "output_type": "stream",
     "text": [
      "   rank    country_full  total_points  previous_points  rank_change  \\\n",
      "0    74      Madagascar          18.0              0.0            0   \n",
      "1    52           Qatar          27.0              0.0            0   \n",
      "2    51         Senegal          27.0              0.0            0   \n",
      "3    50     El Salvador          28.0              0.0            0   \n",
      "4    49  Korea Republic          28.0              0.0            0   \n",
      "\n",
      "  confederation   rank_date  \n",
      "0           CAF  1992-12-31  \n",
      "1           AFC  1992-12-31  \n",
      "2           CAF  1992-12-31  \n",
      "3      CONCACAF  1992-12-31  \n",
      "4           AFC  1992-12-31  \n"
     ]
    }
   ],
   "source": [
    "print(df.head(5))"
   ],
   "metadata": {
    "collapsed": false,
    "ExecuteTime": {
     "end_time": "2023-05-21T22:56:43.624801Z",
     "start_time": "2023-05-21T22:56:43.622482Z"
    }
   }
  },
  {
   "cell_type": "markdown",
   "source": [
    "### Verifying are there empty values. If there are empty values we proceed to delete empty values"
   ],
   "metadata": {
    "collapsed": false
   }
  },
  {
   "cell_type": "code",
   "execution_count": 314,
   "outputs": [
    {
     "name": "stdout",
     "output_type": "stream",
     "text": [
      "rank               0\n",
      "country_full       0\n",
      "total_points       0\n",
      "previous_points    0\n",
      "rank_change        0\n",
      "confederation      0\n",
      "rank_date          0\n",
      "dtype: int64\n"
     ]
    }
   ],
   "source": [
    "print(df.isnull().sum())"
   ],
   "metadata": {
    "collapsed": false,
    "ExecuteTime": {
     "end_time": "2023-05-21T22:56:43.661833Z",
     "start_time": "2023-05-21T22:56:43.637356Z"
    }
   }
  },
  {
   "cell_type": "markdown",
   "source": [
    "## We delete empty values if is necessary"
   ],
   "metadata": {
    "collapsed": false
   }
  },
  {
   "cell_type": "code",
   "execution_count": 315,
   "outputs": [],
   "source": [
    "df = df.dropna()"
   ],
   "metadata": {
    "collapsed": false,
    "ExecuteTime": {
     "end_time": "2023-05-21T22:56:43.662135Z",
     "start_time": "2023-05-21T22:56:43.641996Z"
    }
   }
  },
  {
   "cell_type": "markdown",
   "source": [
    "## We delete duplicated rows if exist"
   ],
   "metadata": {
    "collapsed": false
   }
  },
  {
   "cell_type": "code",
   "execution_count": 316,
   "outputs": [],
   "source": [
    "df = df.drop_duplicates()"
   ],
   "metadata": {
    "collapsed": false,
    "ExecuteTime": {
     "end_time": "2023-05-21T22:56:43.672352Z",
     "start_time": "2023-05-21T22:56:43.660689Z"
    }
   }
  },
  {
   "cell_type": "markdown",
   "source": [
    "## We provide a statistical summary of the DataFrame."
   ],
   "metadata": {
    "collapsed": false
   }
  },
  {
   "cell_type": "code",
   "execution_count": 317,
   "outputs": [
    {
     "name": "stdout",
     "output_type": "stream",
     "text": [
      "               rank  total_points  previous_points   rank_change\n",
      "count  64120.000000  64120.000000     64120.000000  64120.000000\n",
      "mean     100.207782    445.012947       443.607485      0.005115\n",
      "std       58.068506    411.117521       411.336996      5.652814\n",
      "min        1.000000      1.000000         0.000000    -92.000000\n",
      "25%       50.000000     89.000000        86.000000     -1.000000\n",
      "50%      100.000000    349.000000       347.000000      0.000000\n",
      "75%      149.000000    645.000000       644.000000      2.000000\n",
      "max      211.000000   2172.000000      2187.000000    199.000000\n"
     ]
    }
   ],
   "source": [
    "print(df.describe())"
   ],
   "metadata": {
    "collapsed": false,
    "ExecuteTime": {
     "end_time": "2023-05-21T22:56:43.686363Z",
     "start_time": "2023-05-21T22:56:43.672446Z"
    }
   }
  },
  {
   "cell_type": "markdown",
   "source": [
    "## Filter by confederation and year"
   ],
   "metadata": {
    "collapsed": false
   }
  },
  {
   "cell_type": "code",
   "execution_count": 318,
   "outputs": [],
   "source": [
    "conmebol_rank_2022 = df[(df['confederation'] == 'CONMEBOL') & (df['rank_date'] == '2022-12-22')]"
   ],
   "metadata": {
    "collapsed": false,
    "ExecuteTime": {
     "end_time": "2023-05-21T22:56:43.690484Z",
     "start_time": "2023-05-21T22:56:43.688378Z"
    }
   }
  },
  {
   "cell_type": "markdown",
   "source": [
    "## Show only the 'country_full' and 'rank' columns"
   ],
   "metadata": {
    "collapsed": false
   }
  },
  {
   "cell_type": "code",
   "execution_count": 319,
   "outputs": [],
   "source": [
    "conmebol_rank_2022 = conmebol_rank_2022[['country_full', 'rank']]"
   ],
   "metadata": {
    "collapsed": false,
    "ExecuteTime": {
     "end_time": "2023-05-21T22:56:43.694030Z",
     "start_time": "2023-05-21T22:56:43.692188Z"
    }
   }
  },
  {
   "cell_type": "markdown",
   "source": [
    "## Sort by rank."
   ],
   "metadata": {
    "collapsed": false
   }
  },
  {
   "cell_type": "code",
   "execution_count": 320,
   "outputs": [],
   "source": [
    "conmebol_rank_2022 = conmebol_rank_2022.sort_values('rank')"
   ],
   "metadata": {
    "collapsed": false,
    "ExecuteTime": {
     "end_time": "2023-05-21T22:56:43.696684Z",
     "start_time": "2023-05-21T22:56:43.694926Z"
    }
   }
  },
  {
   "cell_type": "markdown",
   "source": [
    "## Add a column to identify the rank information called 'puesto'."
   ],
   "metadata": {
    "collapsed": false
   }
  },
  {
   "cell_type": "code",
   "execution_count": 321,
   "outputs": [],
   "source": [
    "conmebol_rank_2022['puesto'] = conmebol_rank_2022['rank'].rank(method='min')"
   ],
   "metadata": {
    "collapsed": false,
    "ExecuteTime": {
     "end_time": "2023-05-21T22:56:43.699902Z",
     "start_time": "2023-05-21T22:56:43.698302Z"
    }
   }
  },
  {
   "cell_type": "markdown",
   "source": [
    "## Print the result."
   ],
   "metadata": {
    "collapsed": false
   }
  },
  {
   "cell_type": "code",
   "execution_count": 322,
   "outputs": [
    {
     "name": "stdout",
     "output_type": "stream",
     "text": [
      "      country_full  rank  puesto\n",
      "63989       Brazil     1     1.0\n",
      "63967    Argentina     2     2.0\n",
      "63975      Uruguay    16     3.0\n",
      "63974     Colombia    17     4.0\n",
      "63970         Peru    21     5.0\n",
      "64013        Chile    31     6.0\n",
      "64003      Ecuador    41     7.0\n",
      "63998     Paraguay    46     8.0\n",
      "63927    Venezuela    55     9.0\n",
      "63962      Bolivia    82    10.0\n"
     ]
    }
   ],
   "source": [
    "print(conmebol_rank_2022)"
   ],
   "metadata": {
    "collapsed": false,
    "ExecuteTime": {
     "end_time": "2023-05-21T22:56:43.723626Z",
     "start_time": "2023-05-21T22:56:43.701578Z"
    }
   }
  },
  {
   "cell_type": "markdown",
   "source": [
    "## Group by country and show the number of records for each of the countries. A flag is added that allows removing the limit for the maximum number of rows to display."
   ],
   "metadata": {
    "collapsed": false
   }
  },
  {
   "cell_type": "code",
   "execution_count": 323,
   "outputs": [
    {
     "name": "stdout",
     "output_type": "stream",
     "text": [
      "Afghanistan                       220\n",
      "Albania                           323\n",
      "Algeria                           323\n",
      "American Samoa                    206\n",
      "Andorra                           268\n",
      "Angola                            323\n",
      "Anguilla                          193\n",
      "Antigua and Barbuda               323\n",
      "Argentina                         323\n",
      "Armenia                           313\n",
      "Aruba                             277\n",
      "Australia                         323\n",
      "Austria                           323\n",
      "Azerbaijan                        311\n",
      "Bahamas                           230\n",
      "Bahrain                           323\n",
      "Bangladesh                        323\n",
      "Barbados                          323\n",
      "Belarus                           323\n",
      "Belgium                           323\n",
      "Belize                            279\n",
      "Benin                             323\n",
      "Bermuda                           323\n",
      "Bhutan                            215\n",
      "Bolivia                           323\n",
      "Bosnia and Herzegovina            294\n",
      "Botswana                          323\n",
      "Brazil                            323\n",
      "British Virgin Islands            285\n",
      "Brunei Darussalam                 323\n",
      "Bulgaria                          323\n",
      "Burkina Faso                      323\n",
      "Burundi                           323\n",
      "Cabo Verde                         23\n",
      "Cambodia                          285\n",
      "Cameroon                          323\n",
      "Canada                            323\n",
      "Cape Verde Islands                300\n",
      "Cayman Islands                    319\n",
      "Central African Republic          288\n",
      "Chad                              280\n",
      "Chile                             323\n",
      "China PR                          323\n",
      "Chinese Taipei                    292\n",
      "Colombia                          323\n",
      "Comoros                           173\n",
      "Congo                             323\n",
      "Congo DR                          256\n",
      "Cook Islands                      235\n",
      "Costa Rica                        323\n",
      "Croatia                           323\n",
      "Cuba                              306\n",
      "Curacao                           101\n",
      "Curaçao                            25\n",
      "Cyprus                            323\n",
      "Czech Republic                    314\n",
      "Czechia                             2\n",
      "Czechoslovakia                      6\n",
      "Côte d'Ivoire                     323\n",
      "Denmark                           323\n",
      "Djibouti                          238\n",
      "Dominica                          306\n",
      "Dominican Republic                323\n",
      "Ecuador                           323\n",
      "Egypt                             323\n",
      "El Salvador                       323\n",
      "England                           323\n",
      "Equatorial Guinea                 270\n",
      "Eritrea                           239\n",
      "Estonia                           323\n",
      "Eswatini                          185\n",
      "Ethiopia                          323\n",
      "FYR Macedonia                     285\n",
      "Faroe Islands                     323\n",
      "Fiji                              323\n",
      "Finland                           323\n",
      "France                            323\n",
      "Gabon                             323\n",
      "Gambia                            320\n",
      "Georgia                           314\n",
      "Germany                           323\n",
      "Ghana                             323\n",
      "Gibraltar                          39\n",
      "Greece                            323\n",
      "Grenada                           323\n",
      "Guam                              234\n",
      "Guatemala                         323\n",
      "Guinea                            323\n",
      "Guinea-Bissau                     323\n",
      "Guyana                            323\n",
      "Haiti                             323\n",
      "Honduras                          323\n",
      "Hong Kong                         323\n",
      "Hungary                           323\n",
      "IR Iran                           323\n",
      "Iceland                           323\n",
      "India                             323\n",
      "Indonesia                         323\n",
      "Iraq                              323\n",
      "Israel                            323\n",
      "Italy                             323\n",
      "Jamaica                           323\n",
      "Japan                             323\n",
      "Jordan                            323\n",
      "Kazakhstan                        308\n",
      "Kenya                             323\n",
      "Korea DPR                         323\n",
      "Korea Republic                    323\n",
      "Kosovo                             60\n",
      "Kuwait                            323\n",
      "Kyrgyz Republic                   308\n",
      "Laos                              322\n",
      "Latvia                            323\n",
      "Lebanon                           322\n",
      "Lesotho                           323\n",
      "Liberia                           323\n",
      "Libya                             312\n",
      "Liechtenstein                     314\n",
      "Lithuania                         323\n",
      "Luxembourg                        323\n",
      "Macau                             296\n",
      "Madagascar                        323\n",
      "Malawi                            323\n",
      "Malaysia                          323\n",
      "Maldives                          318\n",
      "Mali                              323\n",
      "Malta                             323\n",
      "Mauritania                        323\n",
      "Mauritius                         323\n",
      "Mexico                            323\n",
      "Moldova                           314\n",
      "Mongolia                          267\n",
      "Montenegro                        165\n",
      "Montserrat                        191\n",
      "Morocco                           323\n",
      "Mozambique                        323\n",
      "Myanmar                           322\n",
      "Namibia                           311\n",
      "Nepal                             319\n",
      "Netherlands                       323\n",
      "Netherlands Antilles               44\n",
      "New Caledonia                     203\n",
      "New Zealand                       323\n",
      "Nicaragua                         322\n",
      "Niger                             323\n",
      "Nigeria                           323\n",
      "North Macedonia                    29\n",
      "Northern Ireland                  323\n",
      "Norway                            323\n",
      "Oman                              323\n",
      "Pakistan                          323\n",
      "Palestine                         268\n",
      "Panama                            323\n",
      "Papua New Guinea                  253\n",
      "Paraguay                          323\n",
      "Peru                              323\n",
      "Philippines                       298\n",
      "Poland                            323\n",
      "Portugal                          323\n",
      "Puerto Rico                       323\n",
      "Qatar                             323\n",
      "Republic of Ireland               323\n",
      "Romania                           323\n",
      "Russia                            323\n",
      "Rwanda                            298\n",
      "Samoa                             286\n",
      "San Marino                        246\n",
      "Sao Tome e Principe               184\n",
      "Saudi Arabia                      323\n",
      "Scotland                          323\n",
      "Senegal                           323\n",
      "Serbia                            180\n",
      "Serbia and Montenegro              43\n",
      "Seychelles                        299\n",
      "Sierra Leone                      323\n",
      "Singapore                         323\n",
      "Slovakia                          319\n",
      "Slovenia                          323\n",
      "Solomon Islands                   323\n",
      "Somalia                           276\n",
      "South Africa                      323\n",
      "South Sudan                       107\n",
      "Spain                             323\n",
      "Sri Lanka                         318\n",
      "St Kitts and Nevis                  2\n",
      "St Lucia                            2\n",
      "St Vincent and the Grenadines       2\n",
      "St. Kitts and Nevis               304\n",
      "St. Lucia                         321\n",
      "St. Vincent / Grenadines          138\n",
      "St. Vincent and the Grenadines    183\n",
      "Sudan                             303\n",
      "Suriname                          323\n",
      "Swaziland                         138\n",
      "Sweden                            323\n",
      "Switzerland                       323\n",
      "Syria                             323\n",
      "São Tomé and Príncipe              23\n",
      "São Tomé e Príncipe                 1\n",
      "Tahiti                            323\n",
      "Tajikistan                        308\n",
      "Tanzania                          323\n",
      "Thailand                          323\n",
      "The Gambia                          2\n",
      "Timor-Leste                       151\n",
      "Togo                              323\n",
      "Tonga                             258\n",
      "Trinidad and Tobago               323\n",
      "Tunisia                           323\n",
      "Turkey                            321\n",
      "Turkmenistan                      309\n",
      "Turks and Caicos Islands          233\n",
      "Türkiye                             2\n",
      "US Virgin Islands                 244\n",
      "USA                               323\n",
      "Uganda                            323\n",
      "Ukraine                           323\n",
      "United Arab Emirates              323\n",
      "Uruguay                           323\n",
      "Uzbekistan                        309\n",
      "Vanuatu                           291\n",
      "Venezuela                         323\n",
      "Vietnam                           322\n",
      "Wales                             323\n",
      "Yemen                             323\n",
      "Yugoslavia                        102\n",
      "Zaire                              67\n",
      "Zambia                            323\n",
      "Zimbabwe                          323\n",
      "Name: country_full, dtype: int64\n"
     ]
    }
   ],
   "source": [
    "pd.set_option('display.max_rows', None)\n",
    "country_counts = df[\"country_full\"].value_counts()\n",
    "country_counts_sorted = country_counts.sort_index()\n",
    "\n",
    "print(country_counts_sorted)"
   ],
   "metadata": {
    "collapsed": false,
    "ExecuteTime": {
     "end_time": "2023-05-21T22:56:43.723973Z",
     "start_time": "2023-05-21T22:56:43.706565Z"
    }
   }
  },
  {
   "cell_type": "code",
   "execution_count": 324,
   "outputs": [
    {
     "name": "stdout",
     "output_type": "stream",
     "text": [
      "rank_date\n",
      "1992    35\n",
      "1993    19\n",
      "1994    17\n",
      "1995    16\n",
      "1996    10\n",
      "1997     9\n",
      "1998    20\n",
      "1999    25\n",
      "2000    17\n",
      "2001    11\n",
      "2002    14\n",
      "2003    33\n",
      "2004    33\n",
      "2005    25\n",
      "2006    28\n",
      "2007    27\n",
      "2008    26\n",
      "2009    43\n",
      "2010    40\n",
      "2011    42\n",
      "2012    20\n",
      "2013     4\n",
      "2014     4\n",
      "2015     4\n",
      "2016     5\n",
      "2017     8\n",
      "2018    13\n",
      "2019    10\n",
      "2020    11\n",
      "2021    15\n",
      "2022    17\n",
      "Name: rank, dtype: int64\n"
     ]
    }
   ],
   "source": [
    "# We make sure that the rank date column will be a date that we can work with.\n",
    "df['rank_date'] = pd.to_datetime(df['rank_date'])\n",
    "\n",
    "# We filter the records to only Colombia\n",
    "colombia_data = df[df['country_full'] == 'Colombia']\n",
    "\n",
    "# We store these records in a smaller df.\n",
    "colombia_data_copy = colombia_data.copy()\n",
    "\n",
    "# We group these results by year.\n",
    "agrupado_por_anio = colombia_data_copy.groupby(colombia_data_copy['rank_date'].dt.year)['rank'].mean()\n",
    "\n",
    "# The obtained values are stored in independent variables\n",
    "years = agrupado_por_anio.index\n",
    "ranks = agrupado_por_anio.values\n",
    "\n",
    "# We made sure that the clustering works with whole data since it was an average.\n",
    "agrupado_por_anio = agrupado_por_anio.astype(int)\n",
    "\n",
    "# We show the final grouping\n",
    "print(agrupado_por_anio)"
   ],
   "metadata": {
    "collapsed": false,
    "ExecuteTime": {
     "end_time": "2023-05-21T22:56:43.724118Z",
     "start_time": "2023-05-21T22:56:43.712345Z"
    }
   }
  },
  {
   "cell_type": "code",
   "execution_count": 325,
   "outputs": [
    {
     "data": {
      "text/plain": "<Figure size 640x480 with 1 Axes>",
      "image/png": "[encoded data removed]"
     },
     "metadata": {},
     "output_type": "display_data"
    }
   ],
   "source": [
    "# Sort arrays by ascending average range\n",
    "sorted_indices = np.argsort(ranks)\n",
    "years_sorted = years[sorted_indices]\n",
    "ranks_sorted = ranks[sorted_indices]\n",
    "\n",
    "# We give the ranges for the graph\n",
    "plt.scatter(years, ranks)\n",
    "\n",
    "# We give the labels of the graph\n",
    "plt.xlabel('Año')\n",
    "plt.ylabel('Rank Promedio')\n",
    "plt.title('Promedio de Rango por Año para Colombia')\n",
    "\n",
    "plt.gca().invert_yaxis()\n",
    "\n",
    "plt.show()"
   ],
   "metadata": {
    "collapsed": false,
    "ExecuteTime": {
     "end_time": "2023-05-21T22:56:43.785105Z",
     "start_time": "2023-05-21T22:56:43.723110Z"
    }
   }
  }
 ],
 "metadata": {
  "kernelspec": {
   "display_name": "Python 3 (ipykernel)",
   "language": "python",
   "name": "python3"
  },
  "language_info": {
   "codemirror_mode": {
    "name": "ipython",
    "version": 3
   },
   "file_extension": ".py",
   "mimetype": "text/x-python",
   "name": "python",
   "nbconvert_exporter": "python",
   "pygments_lexer": "ipython3",
   "version": "3.10.9"
  }
 },
 "nbformat": 4,
 "nbformat_minor": 1
}
